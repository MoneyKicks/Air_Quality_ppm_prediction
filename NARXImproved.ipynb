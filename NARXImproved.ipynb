{
 "cells": [
  {
   "cell_type": "markdown",
   "metadata": {},
   "source": [
    "   ### Implementation of :\n",
    "            (i) Multilayer Perceptron (4 layers) \n",
    "            (ii) Non-Linear AutoRegressive with eXogenous inputs)  (4 Layers)\n",
    "            (iii) Elman RNN\n",
    "            (iv)  Jordan RNN"
   ]
  },
  {
   "cell_type": "code",
   "execution_count": 187,
   "metadata": {},
   "outputs": [],
   "source": [
    "import pandas as pd\n",
    "import numpy as np\n",
    "from sklearn import preprocessing\n",
    "from pylab import plot, legend, subplot, grid, xlabel, ylabel, show, title\n",
    "from pyneurgen.neuralnet import NeuralNet\n",
    "from pyneurgen.nodes import BiasNode, Connection\n",
    "import matplotlib.pyplot as plt\n",
    "%matplotlib inline"
   ]
  },
  {
   "cell_type": "code",
   "execution_count": 188,
   "metadata": {},
   "outputs": [
    {
     "data": {
      "text/plain": [
       "(43824, 10)"
      ]
     },
     "execution_count": 188,
     "metadata": {},
     "output_type": "execute_result"
    }
   ],
   "source": [
    "df = pd.read_csv(\"dataset.csv\",index_col=False, parse_dates=[['day','month','year','hour']])\n",
    "df.shape[:]"
   ]
  },
  {
   "cell_type": "code",
   "execution_count": 189,
   "metadata": {},
   "outputs": [],
   "source": [
    "df['day_month_year_hour'] = pd.to_datetime(df.day_month_year_hour , format = '%d %m %Y %H')\n",
    "data = df.drop(['day_month_year_hour'], axis=1)\n",
    "data.index = df.day_month_year_hour\n",
    "data = data.drop(['No'],axis=1)"
   ]
  },
  {
   "cell_type": "code",
   "execution_count": 190,
   "metadata": {},
   "outputs": [],
   "source": [
    "data = data.fillna(method='bfill')"
   ]
  },
  {
   "cell_type": "code",
   "execution_count": 191,
   "metadata": {},
   "outputs": [
    {
     "data": {
      "text/html": [
       "<div>\n",
       "<style scoped>\n",
       "    .dataframe tbody tr th:only-of-type {\n",
       "        vertical-align: middle;\n",
       "    }\n",
       "\n",
       "    .dataframe tbody tr th {\n",
       "        vertical-align: top;\n",
       "    }\n",
       "\n",
       "    .dataframe thead th {\n",
       "        text-align: right;\n",
       "    }\n",
       "</style>\n",
       "<table border=\"1\" class=\"dataframe\">\n",
       "  <thead>\n",
       "    <tr style=\"text-align: right;\">\n",
       "      <th></th>\n",
       "      <th>pm2.5</th>\n",
       "      <th>PRES</th>\n",
       "      <th>Is</th>\n",
       "    </tr>\n",
       "    <tr>\n",
       "      <th>day_month_year_hour</th>\n",
       "      <th></th>\n",
       "      <th></th>\n",
       "      <th></th>\n",
       "    </tr>\n",
       "  </thead>\n",
       "  <tbody>\n",
       "    <tr>\n",
       "      <th>2010-01-01 00:00:00</th>\n",
       "      <td>129.0</td>\n",
       "      <td>1021.0</td>\n",
       "      <td>0</td>\n",
       "    </tr>\n",
       "    <tr>\n",
       "      <th>2010-01-01 01:00:00</th>\n",
       "      <td>129.0</td>\n",
       "      <td>1020.0</td>\n",
       "      <td>0</td>\n",
       "    </tr>\n",
       "    <tr>\n",
       "      <th>2010-01-01 02:00:00</th>\n",
       "      <td>129.0</td>\n",
       "      <td>1019.0</td>\n",
       "      <td>0</td>\n",
       "    </tr>\n",
       "    <tr>\n",
       "      <th>2010-01-01 03:00:00</th>\n",
       "      <td>129.0</td>\n",
       "      <td>1019.0</td>\n",
       "      <td>0</td>\n",
       "    </tr>\n",
       "    <tr>\n",
       "      <th>2010-01-01 04:00:00</th>\n",
       "      <td>129.0</td>\n",
       "      <td>1018.0</td>\n",
       "      <td>0</td>\n",
       "    </tr>\n",
       "  </tbody>\n",
       "</table>\n",
       "</div>"
      ],
      "text/plain": [
       "                     pm2.5    PRES  Is\n",
       "day_month_year_hour                   \n",
       "2010-01-01 00:00:00  129.0  1021.0   0\n",
       "2010-01-01 01:00:00  129.0  1020.0   0\n",
       "2010-01-01 02:00:00  129.0  1019.0   0\n",
       "2010-01-01 03:00:00  129.0  1019.0   0\n",
       "2010-01-01 04:00:00  129.0  1018.0   0"
      ]
     },
     "execution_count": 191,
     "metadata": {},
     "output_type": "execute_result"
    }
   ],
   "source": [
    "data = data.drop(['DEWP','TEMP','cbwd','Iws','Ir'],axis=1)\n",
    "data.head(n=5)"
   ]
  },
  {
   "cell_type": "code",
   "execution_count": 192,
   "metadata": {},
   "outputs": [],
   "source": [
    "# data['PRES']=pd.DataFrame(data['PRES'].values/np.max(data['PRES'].values))\n",
    "# data['Is']=pd.DataFrame(data['Is'].values/np.max(data['Is'].values))\n",
    "all_inputs = pd.DataFrame(data.values[:,1:])\n",
    "all_targets = pd.DataFrame(data.values[:,0]) "
   ]
  },
  {
   "cell_type": "code",
   "execution_count": 193,
   "metadata": {},
   "outputs": [
    {
     "data": {
      "text/html": [
       "<div>\n",
       "<style scoped>\n",
       "    .dataframe tbody tr th:only-of-type {\n",
       "        vertical-align: middle;\n",
       "    }\n",
       "\n",
       "    .dataframe tbody tr th {\n",
       "        vertical-align: top;\n",
       "    }\n",
       "\n",
       "    .dataframe thead th {\n",
       "        text-align: right;\n",
       "    }\n",
       "</style>\n",
       "<table border=\"1\" class=\"dataframe\">\n",
       "  <thead>\n",
       "    <tr style=\"text-align: right;\">\n",
       "      <th></th>\n",
       "      <th>0</th>\n",
       "      <th>1</th>\n",
       "    </tr>\n",
       "  </thead>\n",
       "  <tbody>\n",
       "    <tr>\n",
       "      <th>0</th>\n",
       "      <td>0.976099</td>\n",
       "      <td>0.0</td>\n",
       "    </tr>\n",
       "    <tr>\n",
       "      <th>1</th>\n",
       "      <td>0.975143</td>\n",
       "      <td>0.0</td>\n",
       "    </tr>\n",
       "    <tr>\n",
       "      <th>2</th>\n",
       "      <td>0.974187</td>\n",
       "      <td>0.0</td>\n",
       "    </tr>\n",
       "    <tr>\n",
       "      <th>3</th>\n",
       "      <td>0.974187</td>\n",
       "      <td>0.0</td>\n",
       "    </tr>\n",
       "    <tr>\n",
       "      <th>4</th>\n",
       "      <td>0.973231</td>\n",
       "      <td>0.0</td>\n",
       "    </tr>\n",
       "  </tbody>\n",
       "</table>\n",
       "</div>"
      ],
      "text/plain": [
       "          0    1\n",
       "0  0.976099  0.0\n",
       "1  0.975143  0.0\n",
       "2  0.974187  0.0\n",
       "3  0.974187  0.0\n",
       "4  0.973231  0.0"
      ]
     },
     "execution_count": 193,
     "metadata": {},
     "output_type": "execute_result"
    }
   ],
   "source": [
    "all_inputs[0] = all_inputs[0]/all_inputs[0].max()\n",
    "all_inputs[1] = all_inputs[1]/all_inputs[1].max()\n",
    "all_inputs.head(n=5)"
   ]
  },
  {
   "cell_type": "code",
   "execution_count": 194,
   "metadata": {},
   "outputs": [
    {
     "data": {
      "text/html": [
       "<div>\n",
       "<style scoped>\n",
       "    .dataframe tbody tr th:only-of-type {\n",
       "        vertical-align: middle;\n",
       "    }\n",
       "\n",
       "    .dataframe tbody tr th {\n",
       "        vertical-align: top;\n",
       "    }\n",
       "\n",
       "    .dataframe thead th {\n",
       "        text-align: right;\n",
       "    }\n",
       "</style>\n",
       "<table border=\"1\" class=\"dataframe\">\n",
       "  <thead>\n",
       "    <tr style=\"text-align: right;\">\n",
       "      <th></th>\n",
       "      <th>0</th>\n",
       "    </tr>\n",
       "  </thead>\n",
       "  <tbody>\n",
       "    <tr>\n",
       "      <th>0</th>\n",
       "      <td>0.129779</td>\n",
       "    </tr>\n",
       "    <tr>\n",
       "      <th>1</th>\n",
       "      <td>0.129779</td>\n",
       "    </tr>\n",
       "    <tr>\n",
       "      <th>2</th>\n",
       "      <td>0.129779</td>\n",
       "    </tr>\n",
       "    <tr>\n",
       "      <th>3</th>\n",
       "      <td>0.129779</td>\n",
       "    </tr>\n",
       "    <tr>\n",
       "      <th>4</th>\n",
       "      <td>0.129779</td>\n",
       "    </tr>\n",
       "  </tbody>\n",
       "</table>\n",
       "</div>"
      ],
      "text/plain": [
       "          0\n",
       "0  0.129779\n",
       "1  0.129779\n",
       "2  0.129779\n",
       "3  0.129779\n",
       "4  0.129779"
      ]
     },
     "execution_count": 194,
     "metadata": {},
     "output_type": "execute_result"
    }
   ],
   "source": [
    "all_targets[0] = all_targets[0]/all_targets[0].max()\n",
    "all_targets.head(n=5)"
   ]
  },
  {
   "cell_type": "code",
   "execution_count": 195,
   "metadata": {},
   "outputs": [
    {
     "name": "stdout",
     "output_type": "stream",
     "text": [
      "(43824, 2)\n",
      "(43824, 1)\n",
      "0    float64\n",
      "1    float64\n",
      "dtype: object\n"
     ]
    }
   ],
   "source": [
    "print(all_inputs.shape[:])\n",
    "print(all_targets.shape[:])\n",
    "print(all_inputs.dtypes)"
   ]
  },
  {
   "cell_type": "markdown",
   "metadata": {},
   "source": [
    "# Simple ANN"
   ]
  },
  {
   "cell_type": "code",
   "execution_count": 196,
   "metadata": {},
   "outputs": [],
   "source": [
    "net = NeuralNet()\n",
    "net.init_layers(5, [2], 1)\n",
    "\n",
    "\n",
    "net.randomize_network()\n",
    "net.set_halt_on_extremes(True)\n",
    "\n",
    "#   Set to constrain beginning weights to -.5 to .5\n",
    "#       Just to show we can\n",
    "net.set_random_constraint(.5)\n",
    "net.set_learnrate(.2)"
   ]
  },
  {
   "cell_type": "code",
   "execution_count": 197,
   "metadata": {},
   "outputs": [],
   "source": [
    "net.set_all_inputs(all_inputs.values)\n",
    "net.set_all_targets(all_targets.values)\n"
   ]
  },
  {
   "cell_type": "code",
   "execution_count": 198,
   "metadata": {},
   "outputs": [],
   "source": [
    "length = len(all_inputs)\n",
    "learn_end_point = int(length * 0.8)\n",
    "\n",
    "net.set_learn_range(0, learn_end_point)\n",
    "net.set_test_range(learn_end_point + 1, length - 1)"
   ]
  },
  {
   "cell_type": "code",
   "execution_count": 199,
   "metadata": {},
   "outputs": [],
   "source": [
    "net.layers[1].set_activation_type('tanh')"
   ]
  },
  {
   "cell_type": "code",
   "execution_count": 200,
   "metadata": {},
   "outputs": [
    {
     "name": "stdout",
     "output_type": "stream",
     "text": [
      "epoch: 0 MSE: 0.0006688582978570659\n",
      "epoch: 1 MSE: 0.0008178902061643036\n",
      "epoch: 2 MSE: 0.0009002348373435905\n",
      "epoch: 3 MSE: 0.0009025697367316699\n",
      "epoch: 4 MSE: 0.0009025895010223313\n",
      "epoch: 5 MSE: 0.000902589763660176\n",
      "epoch: 6 MSE: 0.0009025897119020335\n",
      "epoch: 7 MSE: 0.0009025896434200707\n",
      "epoch: 8 MSE: 0.0009025895735768797\n",
      "epoch: 9 MSE: 0.0009025895035856909\n"
     ]
    }
   ],
   "source": [
    "net.learn(epochs=10, show_epoch_results=True,random_testing=False)"
   ]
  },
  {
   "cell_type": "code",
   "execution_count": 201,
   "metadata": {},
   "outputs": [],
   "source": [
    "mse = net.test()"
   ]
  },
  {
   "cell_type": "code",
   "execution_count": 202,
   "metadata": {},
   "outputs": [
    {
     "data": {
      "text/plain": [
       "0.08273831911242709"
      ]
     },
     "execution_count": 202,
     "metadata": {},
     "output_type": "execute_result"
    }
   ],
   "source": [
    "np.sqrt(mse)"
   ]
  },
  {
   "cell_type": "code",
   "execution_count": 205,
   "metadata": {},
   "outputs": [
    {
     "data": {
      "image/png": "[encoded data removed]",
      "text/plain": [
       "<Figure size 648x504 with 1 Axes>"
      ]
     },
     "metadata": {},
     "output_type": "display_data"
    },
    {
     "data": {
      "image/png": "[encoded data removed]",
      "text/plain": [
       "<Figure size 648x504 with 1 Axes>"
      ]
     },
     "metadata": {},
     "output_type": "display_data"
    }
   ],
   "source": [
    "test_positions = [item[0][1] * 1000.0 for item in net.get_test_data()]\n",
    "\n",
    "all_targets1 = [item[0][0] for item in net.test_targets_activations]\n",
    "allactuals = [item[1][0] for item in net.test_targets_activations]\n",
    "plt.figure(figsize=(9,7))\n",
    "subplot(2, 1, 1)\n",
    "plot(test_positions, all_targets1, 'bo', label='targets')\n",
    "plot(test_positions, allactuals, 'ro', label='actuals')\n",
    "grid(True)\n",
    "legend(loc='upper right', numpoints=1)\n",
    "title(\"Test Target Points vs Actual Points\")\n",
    "show()\n",
    "\n",
    "plt.figure(figsize=(9,7))\n",
    "subplot(2, 1, 2)\n",
    "plot(range(1, len(net.accum_mse) + 1, 1), np.sqrt(net.accum_mse))\n",
    "xlabel('epochs')\n",
    "ylabel('Root mean squared error')\n",
    "grid(True)\n",
    "title(\"Mean Squared Error by Epoch\")\n",
    "\n",
    "show()"
   ]
  },
  {
   "cell_type": "markdown",
   "metadata": {},
   "source": [
    "#   NARX Recurrent Networks"
   ]
  },
  {
   "cell_type": "code",
   "execution_count": 206,
   "metadata": {},
   "outputs": [],
   "source": [
    "from pyneurgen.recurrent import NARXRecurrent\n",
    "input_nodes = 10\n",
    "hidden_nodes = 4\n",
    "output_nodes = 1\n",
    "\n",
    "output_order = 3\n",
    "incoming_weight_from_output = .6\n",
    "input_order = 2\n",
    "incoming_weight_from_input = .4\n",
    "\n",
    "net = NeuralNet()\n",
    "net.init_layers(input_nodes, [hidden_nodes], output_nodes,\n",
    "        NARXRecurrent(\n",
    "            output_order,\n",
    "            incoming_weight_from_output,\n",
    "            input_order,\n",
    "            incoming_weight_from_input))\n",
    "\n",
    "net.randomize_network()"
   ]
  },
  {
   "cell_type": "code",
   "execution_count": 207,
   "metadata": {},
   "outputs": [],
   "source": [
    "net.set_all_inputs(all_inputs.values)\n",
    "net.set_all_targets(all_targets.values)\n"
   ]
  },
  {
   "cell_type": "code",
   "execution_count": 208,
   "metadata": {},
   "outputs": [],
   "source": [
    "net.set_learnrate(.1)"
   ]
  },
  {
   "cell_type": "code",
   "execution_count": 209,
   "metadata": {},
   "outputs": [],
   "source": [
    "length = len(all_inputs)\n",
    "learn_end_point = int(length * 0.8)\n",
    "\n",
    "net.set_learn_range(0, learn_end_point)\n",
    "net.set_test_range(learn_end_point + 1, length - 1)"
   ]
  },
  {
   "cell_type": "code",
   "execution_count": 210,
   "metadata": {},
   "outputs": [],
   "source": [
    "net.layers[1].set_activation_type('tanh')"
   ]
  },
  {
   "cell_type": "code",
   "execution_count": 211,
   "metadata": {},
   "outputs": [
    {
     "name": "stdout",
     "output_type": "stream",
     "text": [
      "epoch: 0 MSE: 0.0007213786381240229\n",
      "epoch: 1 MSE: 0.0007341596537394956\n",
      "epoch: 2 MSE: 0.0008888671522161664\n",
      "epoch: 3 MSE: 0.0009967933824804416\n",
      "epoch: 4 MSE: 0.0010726015788521575\n",
      "epoch: 5 MSE: 0.0011392100322357883\n",
      "epoch: 6 MSE: 0.0012028597676239543\n",
      "epoch: 7 MSE: 0.0012605283593831534\n",
      "epoch: 8 MSE: 0.0013156278539910406\n",
      "epoch: 9 MSE: 0.0013642064009523963\n"
     ]
    }
   ],
   "source": [
    "net.learn(epochs=10, show_epoch_results=True,random_testing=False)"
   ]
  },
  {
   "cell_type": "code",
   "execution_count": 212,
   "metadata": {},
   "outputs": [],
   "source": [
    "mse = net.test()"
   ]
  },
  {
   "cell_type": "code",
   "execution_count": 213,
   "metadata": {},
   "outputs": [
    {
     "data": {
      "text/plain": [
       "0.07634119032758645"
      ]
     },
     "execution_count": 213,
     "metadata": {},
     "output_type": "execute_result"
    }
   ],
   "source": [
    "np.sqrt(mse)"
   ]
  },
  {
   "cell_type": "code",
   "execution_count": 214,
   "metadata": {},
   "outputs": [
    {
     "data": {
      "image/png": "[encoded data removed]",
      "text/plain": [
       "<Figure size 648x504 with 1 Axes>"
      ]
     },
     "metadata": {},
     "output_type": "display_data"
    },
    {
     "data": {
      "image/png": "[encoded data removed]",
      "text/plain": [
       "<Figure size 648x504 with 1 Axes>"
      ]
     },
     "metadata": {},
     "output_type": "display_data"
    }
   ],
   "source": [
    "test_positions = [item[0][1] * 1000.0 for item in net.get_test_data()]\n",
    "\n",
    "all_targets1 = [item[0][0] for item in net.test_targets_activations]\n",
    "allactuals = [item[1][0] for item in net.test_targets_activations]\n",
    "plt.figure(figsize=(9,7))\n",
    "subplot(2, 1, 1)\n",
    "plot(test_positions, all_targets1, 'bo', label='targets')\n",
    "plot(test_positions, allactuals, 'ro', label='actuals')\n",
    "grid(True)\n",
    "legend(loc='upper right', numpoints=1)\n",
    "title(\"Test Target Points vs Actual Points\")\n",
    "show()\n",
    "\n",
    "plt.figure(figsize=(9,7))\n",
    "subplot(2, 1, 2)\n",
    "plot(range(1, len(net.accum_mse) + 1, 1), np.sqrt(net.accum_mse))\n",
    "xlabel('epochs')\n",
    "ylabel('Root mean squared error')\n",
    "grid(True)\n",
    "title(\"Root Mean Squared Error by Epoch\")\n",
    "\n",
    "show()"
   ]
  },
  {
   "cell_type": "markdown",
   "metadata": {},
   "source": [
    "# Elman Simple Recurrent Network "
   ]
  },
  {
   "cell_type": "code",
   "execution_count": 220,
   "metadata": {},
   "outputs": [],
   "source": [
    "from pyneurgen.recurrent import ElmanSimpleRecurrent \n",
    "input_nodes = 10\n",
    "hidden_nodes = 4\n",
    "output_nodes = 1\n",
    "\n",
    "net = NeuralNet()\n",
    "net.init_layers(\n",
    "    input_nodes,\n",
    "    [hidden_nodes],\n",
    "    output_nodes,\n",
    "    ElmanSimpleRecurrent())\n",
    "\n",
    "net.randomize_network()"
   ]
  },
  {
   "cell_type": "code",
   "execution_count": 221,
   "metadata": {},
   "outputs": [],
   "source": [
    "net.set_all_inputs(all_inputs.values)\n",
    "net.set_all_targets(all_targets.values)"
   ]
  },
  {
   "cell_type": "code",
   "execution_count": 222,
   "metadata": {},
   "outputs": [],
   "source": [
    "net.set_learnrate(.1)"
   ]
  },
  {
   "cell_type": "code",
   "execution_count": 232,
   "metadata": {},
   "outputs": [],
   "source": [
    "length = len(all_inputs)\n",
    "learn_end_point = int(length * 0.8)\n",
    "\n",
    "net.set_learn_range(0, learn_end_point)\n",
    "net.set_test_range(learn_end_point + 1, length - 1)"
   ]
  },
  {
   "cell_type": "code",
   "execution_count": 224,
   "metadata": {},
   "outputs": [],
   "source": [
    "net.layers[1].set_activation_type('tanh')"
   ]
  },
  {
   "cell_type": "code",
   "execution_count": 225,
   "metadata": {},
   "outputs": [
    {
     "name": "stdout",
     "output_type": "stream",
     "text": [
      "epoch: 0 MSE: 0.0005271460915968783\n",
      "epoch: 1 MSE: 0.0005175121559892204\n",
      "epoch: 2 MSE: 0.0005411203970275595\n",
      "epoch: 3 MSE: 0.000575611564156212\n",
      "epoch: 4 MSE: 0.00062197617937222\n",
      "epoch: 5 MSE: 0.0006742798521115127\n",
      "epoch: 6 MSE: 0.000725450873070703\n",
      "epoch: 7 MSE: 0.0007785805400119963\n",
      "epoch: 8 MSE: 0.0008488362282299347\n",
      "epoch: 9 MSE: 0.0009993895465649117\n"
     ]
    }
   ],
   "source": [
    "net.learn(epochs=10, show_epoch_results=True,random_testing=False)"
   ]
  },
  {
   "cell_type": "code",
   "execution_count": 226,
   "metadata": {},
   "outputs": [],
   "source": [
    "mse = net.test()"
   ]
  },
  {
   "cell_type": "code",
   "execution_count": 228,
   "metadata": {},
   "outputs": [
    {
     "data": {
      "text/plain": [
       "0.08135182913850295"
      ]
     },
     "execution_count": 228,
     "metadata": {},
     "output_type": "execute_result"
    }
   ],
   "source": [
    "np.sqrt(mse)"
   ]
  },
  {
   "cell_type": "code",
   "execution_count": 229,
   "metadata": {},
   "outputs": [
    {
     "data": {
      "image/png": "[encoded data removed]",
      "text/plain": [
       "<Figure size 648x504 with 1 Axes>"
      ]
     },
     "metadata": {},
     "output_type": "display_data"
    },
    {
     "data": {
      "image/png": "[encoded data removed]",
      "text/plain": [
       "<Figure size 648x504 with 1 Axes>"
      ]
     },
     "metadata": {},
     "output_type": "display_data"
    }
   ],
   "source": [
    "test_positions = [item[0][1] * 1000.0 for item in net.get_test_data()]\n",
    "\n",
    "all_targets1 = [item[0][0] for item in net.test_targets_activations]\n",
    "allactuals = [item[1][0] for item in net.test_targets_activations]\n",
    "plt.figure(figsize=(9,7))\n",
    "subplot(2, 1, 1)\n",
    "plot(test_positions, all_targets1, 'bo', label='targets')\n",
    "plot(test_positions, allactuals, 'ro', label='actuals')\n",
    "grid(True)\n",
    "legend(loc='upper right', numpoints=1)\n",
    "title(\"Test Target Points vs Actual Points\")\n",
    "show()\n",
    "\n",
    "plt.figure(figsize=(9,7))\n",
    "subplot(2, 1, 2)\n",
    "plot(range(1, len(net.accum_mse) + 1, 1), np.sqrt(net.accum_mse))\n",
    "xlabel('epochs')\n",
    "ylabel('Root mean squared error')\n",
    "grid(True)\n",
    "title(\"Root Mean Squared Error by Epoch\")\n",
    "\n",
    "show()"
   ]
  },
  {
   "cell_type": "markdown",
   "metadata": {},
   "source": [
    "#   Jordan Style Recurrent Network"
   ]
  },
  {
   "cell_type": "code",
   "execution_count": 236,
   "metadata": {},
   "outputs": [],
   "source": [
    "from pyneurgen.recurrent import JordanRecurrent\n",
    "\n",
    "input_nodes = 2\n",
    "hidden_nodes = 2\n",
    "output_nodes = 1\n",
    "existing_weight_factor = .7\n",
    "net = NeuralNet()\n",
    "\n",
    "net.init_layers(\n",
    "    input_nodes,\n",
    "    [hidden_nodes],\n",
    "    output_nodes,\n",
    "    JordanRecurrent(existing_weight_factor))\n",
    "\n",
    "net.randomize_network()"
   ]
  },
  {
   "cell_type": "code",
   "execution_count": 237,
   "metadata": {},
   "outputs": [],
   "source": [
    "net.set_all_inputs(all_inputs.values)\n",
    "net.set_all_targets(all_targets.values)"
   ]
  },
  {
   "cell_type": "code",
   "execution_count": 238,
   "metadata": {},
   "outputs": [],
   "source": [
    "net.set_learnrate(.1)"
   ]
  },
  {
   "cell_type": "code",
   "execution_count": 239,
   "metadata": {},
   "outputs": [],
   "source": [
    "length = len(all_inputs)\n",
    "learn_end_point = int(length * 0.8)\n",
    "\n",
    "net.set_learn_range(0, learn_end_point)\n",
    "net.set_test_range(learn_end_point + 1, length - 1)"
   ]
  },
  {
   "cell_type": "code",
   "execution_count": 240,
   "metadata": {},
   "outputs": [],
   "source": [
    "net.layers[1].set_activation_type('tanh')"
   ]
  },
  {
   "cell_type": "code",
   "execution_count": 241,
   "metadata": {},
   "outputs": [
    {
     "name": "stdout",
     "output_type": "stream",
     "text": [
      "epoch: 0 MSE: 0.0011327074190023868\n",
      "epoch: 1 MSE: 0.0015343302216213734\n",
      "epoch: 2 MSE: 0.0016810413701665897\n",
      "epoch: 3 MSE: 0.0018143277774055853\n",
      "epoch: 4 MSE: 0.001981917878630827\n",
      "epoch: 5 MSE: 0.002106651779971453\n",
      "epoch: 6 MSE: 0.0021963685077640085\n",
      "epoch: 7 MSE: 0.0022926350961018733\n",
      "epoch: 8 MSE: 0.0023628475949821937\n",
      "epoch: 9 MSE: 0.0023617075879759824\n"
     ]
    }
   ],
   "source": [
    "net.learn(epochs=10, show_epoch_results=True,random_testing=False)"
   ]
  },
  {
   "cell_type": "code",
   "execution_count": 242,
   "metadata": {},
   "outputs": [],
   "source": [
    "mse = net.test()"
   ]
  },
  {
   "cell_type": "code",
   "execution_count": 244,
   "metadata": {},
   "outputs": [
    {
     "data": {
      "text/plain": [
       "0.07539706491057728"
      ]
     },
     "execution_count": 244,
     "metadata": {},
     "output_type": "execute_result"
    }
   ],
   "source": [
    "np.sqrt(mse)"
   ]
  },
  {
   "cell_type": "code",
   "execution_count": 245,
   "metadata": {},
   "outputs": [
    {
     "data": {
      "image/png": "[encoded data removed]",
      "text/plain": [
       "<Figure size 648x504 with 1 Axes>"
      ]
     },
     "metadata": {},
     "output_type": "display_data"
    },
    {
     "data": {
      "image/png": "[encoded data removed]",
      "text/plain": [
       "<Figure size 648x504 with 1 Axes>"
      ]
     },
     "metadata": {},
     "output_type": "display_data"
    }
   ],
   "source": [
    "test_positions = [item[0][1] * 1000.0 for item in net.get_test_data()]\n",
    "\n",
    "all_targets1 = [item[0][0] for item in net.test_targets_activations]\n",
    "allactuals = [item[1][0] for item in net.test_targets_activations]\n",
    "plt.figure(figsize=(9,7))\n",
    "subplot(2, 1, 1)\n",
    "plot(test_positions, all_targets1, 'bo', label='targets')\n",
    "plot(test_positions, allactuals, 'ro', label='actuals')\n",
    "grid(True)\n",
    "legend(loc='upper right', numpoints=1)\n",
    "title(\"Test Target Points vs Actual Points\")\n",
    "show()\n",
    "\n",
    "plt.figure(figsize=(9,7))\n",
    "subplot(2, 1, 2)\n",
    "plot(range(1, len(net.accum_mse) + 1, 1), np.sqrt(net.accum_mse))\n",
    "xlabel('epochs')\n",
    "ylabel('Root mean squared error')\n",
    "grid(True)\n",
    "title(\"Root Mean Squared Error by Epoch\")\n",
    "\n",
    "show()"
   ]
  },
  {
   "cell_type": "code",
   "execution_count": null,
   "metadata": {},
   "outputs": [],
   "source": []
  },
  {
   "cell_type": "code",
   "execution_count": null,
   "metadata": {},
   "outputs": [],
   "source": []
  }
 ],
 "metadata": {
  "kernelspec": {
   "display_name": "Python 2",
   "language": "python",
   "name": "python2"
  },
  "language_info": {
   "codemirror_mode": {
    "name": "ipython",
    "version": 2
   },
   "file_extension": ".py",
   "mimetype": "text/x-python",
   "name": "python",
   "nbconvert_exporter": "python",
   "pygments_lexer": "ipython2",
   "version": "2.7.15rc1"
  }
 },
 "nbformat": 4,
 "nbformat_minor": 2
}
